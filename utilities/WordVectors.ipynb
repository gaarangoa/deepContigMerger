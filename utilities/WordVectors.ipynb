{
 "cells": [
  {
   "cell_type": "markdown",
   "metadata": {},
   "source": [
    "# deepGene2Vec\n",
    "Representation of long contigs/genomes as vectors. \n",
    "\n",
    "To build the word vector representation I developed doc2vec, a command line (python) tool that creates a word vector embedding by looking at consecutive sequences of k length. Then, it uses the doc2vec gensim implementation. \n",
    "\n",
    "* Documents: large genomes/plasmids/contigs\n",
    "* Words: kmers\n"
   ]
  },
  {
   "cell_type": "markdown",
   "metadata": {},
   "source": [
    "### Test 1: Clustering of long sequences using a compressed representation (word vectors)\n",
    "In this example, I'm going to see if the builded word vectors are able to cluster similar contigs/plasmids. \n"
   ]
  },
  {
   "cell_type": "code",
   "execution_count": null,
   "metadata": {},
   "outputs": [],
   "source": []
  }
 ],
 "metadata": {
  "kernelspec": {
   "display_name": "Python 3",
   "language": "python",
   "name": "python3"
  },
  "language_info": {
   "codemirror_mode": {
    "name": "ipython",
    "version": 3
   },
   "file_extension": ".py",
   "mimetype": "text/x-python",
   "name": "python",
   "nbconvert_exporter": "python",
   "pygments_lexer": "ipython3",
   "version": "3.6.1"
  }
 },
 "nbformat": 4,
 "nbformat_minor": 2
}
